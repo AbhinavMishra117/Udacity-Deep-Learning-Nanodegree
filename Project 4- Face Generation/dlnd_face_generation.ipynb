{
 "cells": [
  {
   "cell_type": "markdown",
   "metadata": {},
   "source": [
    "# Face Generation\n",
    "\n",
    "In this project, you'll define and train a DCGAN on a dataset of faces. Your goal is to get a generator network to generate *new* images of faces that look as realistic as possible!\n",
    "\n",
    "The project will be broken down into a series of tasks from **loading in data to defining and training adversarial networks**. At the end of the notebook, you'll be able to visualize the results of your trained Generator to see how it performs; your generated samples should look like fairly realistic faces with small amounts of noise.\n",
    "\n",
    "### Get the Data\n",
    "\n",
    "You'll be using the [CelebFaces Attributes Dataset (CelebA)](http://mmlab.ie.cuhk.edu.hk/projects/CelebA.html) to train your adversarial networks.\n",
    "\n",
    "This dataset is more complex than the number datasets (like MNIST or SVHN) you've been working with, and so, you should prepare to define deeper networks and train them for a longer time to get good results. It is suggested that you utilize a GPU for training.\n",
    "\n",
    "### Pre-processed Data\n",
    "\n",
    "Since the project's main focus is on building the GANs, we've done *some* of the pre-processing for you. Each of the CelebA images has been cropped to remove parts of the image that don't include a face, then resized down to 64x64x3 NumPy images. Some sample data is show below.\n",
    "\n",
    "<img src='assets/processed_face_data.png' width=60% />\n",
    "\n",
    "> If you are working locally, you can download this data [by clicking here](https://s3.amazonaws.com/video.udacity-data.com/topher/2018/November/5be7eb6f_processed-celeba-small/processed-celeba-small.zip)\n",
    "\n",
    "This is a zip file that you'll need to extract in the home directory of this notebook for further loading and processing. After extracting the data, you should be left with a directory of data `processed_celeba_small/`"
   ]
  },
  {
   "cell_type": "code",
<<<<<<< HEAD
   "execution_count": 1,
=======
   "execution_count": null,
>>>>>>> 21e479df9fca8dd60922cbb6c9dbaf804dbdb629
   "metadata": {},
   "outputs": [],
   "source": [
    "# can comment out after executing\n",
<<<<<<< HEAD
    "#!unzip processed_celeba_small.zip "
=======
    "!unzip processed_celeba_small.zip"
>>>>>>> 21e479df9fca8dd60922cbb6c9dbaf804dbdb629
   ]
  },
  {
   "cell_type": "code",
<<<<<<< HEAD
   "execution_count": 2,
=======
   "execution_count": null,
>>>>>>> 21e479df9fca8dd60922cbb6c9dbaf804dbdb629
   "metadata": {},
   "outputs": [],
   "source": [
    "data_dir = 'processed_celeba_small/'\n",
    "\n",
    "\"\"\"\n",
    "DON'T MODIFY ANYTHING IN THIS CELL\n",
    "\"\"\"\n",
    "import pickle as pkl\n",
    "import matplotlib.pyplot as plt\n",
    "import numpy as np\n",
    "import problem_unittests as tests\n",
    "#import helper\n",
    "\n",
    "%matplotlib inline"
   ]
  },
  {
   "cell_type": "markdown",
   "metadata": {},
   "source": [
    "## Visualize the CelebA Data\n",
    "\n",
    "The [CelebA](http://mmlab.ie.cuhk.edu.hk/projects/CelebA.html) dataset contains over 200,000 celebrity images with annotations. Since you're going to be generating faces, you won't need the annotations, you'll only need the images. Note that these are color images with [3 color channels (RGB)](https://en.wikipedia.org/wiki/Channel_(digital_image)#RGB_Images) each.\n",
    "\n",
    "### Pre-process and Load the Data\n",
    "\n",
    "Since the project's main focus is on building the GANs, we've done *some* of the pre-processing for you. Each of the CelebA images has been cropped to remove parts of the image that don't include a face, then resized down to 64x64x3 NumPy images. This *pre-processed* dataset is a smaller subset of the very large CelebA data.\n",
    "\n",
    "> There are a few other steps that you'll need to **transform** this data and create a **DataLoader**.\n",
    "\n",
    "#### Exercise: Complete the following `get_dataloader` function, such that it satisfies these requirements:\n",
    "\n",
    "* Your images should be square, Tensor images of size `image_size x image_size` in the x and y dimension.\n",
    "* Your function should return a DataLoader that shuffles and batches these Tensor images.\n",
    "\n",
    "#### ImageFolder\n",
    "\n",
    "To create a dataset given a directory of images, it's recommended that you use PyTorch's [ImageFolder](https://pytorch.org/docs/stable/torchvision/datasets.html#imagefolder) wrapper, with a root directory `processed_celeba_small/` and data transformation passed in."
   ]
  },
  {
   "cell_type": "code",
<<<<<<< HEAD
   "execution_count": 3,
=======
   "execution_count": null,
>>>>>>> 21e479df9fca8dd60922cbb6c9dbaf804dbdb629
   "metadata": {},
   "outputs": [],
   "source": [
    "# necessary imports\n",
    "import torch\n",
    "from torchvision import datasets\n",
    "from torchvision import transforms"
   ]
  },
  {
   "cell_type": "code",
<<<<<<< HEAD
   "execution_count": 4,
=======
   "execution_count": null,
>>>>>>> 21e479df9fca8dd60922cbb6c9dbaf804dbdb629
   "metadata": {},
   "outputs": [],
   "source": [
    "def get_dataloader(batch_size, image_size, data_dir='processed_celeba_small/'):\n",
    "    \"\"\"\n",
    "    Batch the neural network data using DataLoader\n",
    "    :param batch_size: The size of each batch; the number of images in a batch\n",
    "    :param img_size: The square size of the image data (x, y)\n",
    "    :param data_dir: Directory where image data is located\n",
    "    :return: DataLoader with batched data\n",
    "    \"\"\"\n",
    "    \n",
    "    # TODO: Implement function and return a dataloader\n",
<<<<<<< HEAD
    "    transform = transforms.Compose([\n",
    "        transforms.Resize(image_size),\n",
    "        transforms.CenterCrop(image_size),\n",
    "        transforms.ToTensor()\n",
    "    ])\n",
    "    \n",
    "    dataset = datasets.ImageFolder(data_dir, transform=transform)\n",
    "    \n",
    "     # create and return DataLoaders\n",
    "    data_loader = torch.utils.data.DataLoader(dataset=dataset,\n",
    "                                             batch_size=batch_size,\n",
    "                                             shuffle=True)\n",
    "    \n",
    "    return data_loader\n"
=======
    "    \n",
    "    return None\n"
>>>>>>> 21e479df9fca8dd60922cbb6c9dbaf804dbdb629
   ]
  },
  {
   "cell_type": "markdown",
   "metadata": {},
   "source": [
    "## Create a DataLoader\n",
    "\n",
    "#### Exercise: Create a DataLoader `celeba_train_loader` with appropriate hyperparameters.\n",
    "\n",
    "Call the above function and create a dataloader to view images. \n",
    "* You can decide on any reasonable `batch_size` parameter\n",
    "* Your `image_size` **must be** `32`. Resizing the data to a smaller size will make for faster training, while still creating convincing images of faces!"
   ]
  },
  {
   "cell_type": "code",
<<<<<<< HEAD
   "execution_count": 5,
=======
   "execution_count": null,
>>>>>>> 21e479df9fca8dd60922cbb6c9dbaf804dbdb629
   "metadata": {},
   "outputs": [],
   "source": [
    "# Define function hyperparameters\n",
<<<<<<< HEAD
    "batch_size = 64\n",
    "img_size = 32\n",
=======
    "batch_size = \n",
    "img_size = \n",
>>>>>>> 21e479df9fca8dd60922cbb6c9dbaf804dbdb629
    "\n",
    "\"\"\"\n",
    "DON'T MODIFY ANYTHING IN THIS CELL THAT IS BELOW THIS LINE\n",
    "\"\"\"\n",
    "# Call your function and get a dataloader\n",
    "celeba_train_loader = get_dataloader(batch_size, img_size)\n"
   ]
  },
  {
   "cell_type": "markdown",
   "metadata": {},
   "source": [
    "Next, you can view some images! You should seen square images of somewhat-centered faces.\n",
    "\n",
    "Note: You'll need to convert the Tensor images into a NumPy type and transpose the dimensions to correctly display an image, suggested `imshow` code is below, but it may not be perfect."
   ]
  },
  {
   "cell_type": "code",
<<<<<<< HEAD
   "execution_count": 6,
   "metadata": {},
   "outputs": [
    {
     "data": {
      "image/png": "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\n",
      "text/plain": [
       "<matplotlib.figure.Figure at 0x7fabba29bd30>"
      ]
     },
     "metadata": {},
     "output_type": "display_data"
    }
   ],
=======
   "execution_count": null,
   "metadata": {},
   "outputs": [],
>>>>>>> 21e479df9fca8dd60922cbb6c9dbaf804dbdb629
   "source": [
    "# helper display function\n",
    "def imshow(img):\n",
    "    npimg = img.numpy()\n",
    "    plt.imshow(np.transpose(npimg, (1, 2, 0)))\n",
    "\n",
    "\"\"\"\n",
    "DON'T MODIFY ANYTHING IN THIS CELL THAT IS BELOW THIS LINE\n",
    "\"\"\"\n",
    "# obtain one batch of training images\n",
    "dataiter = iter(celeba_train_loader)\n",
    "images, _ = dataiter.next() # _ for no labels\n",
    "\n",
    "# plot the images in the batch, along with the corresponding labels\n",
    "fig = plt.figure(figsize=(20, 4))\n",
    "plot_size=20\n",
    "for idx in np.arange(plot_size):\n",
    "    ax = fig.add_subplot(2, plot_size/2, idx+1, xticks=[], yticks=[])\n",
    "    imshow(images[idx])"
   ]
  },
  {
   "cell_type": "markdown",
   "metadata": {},
   "source": [
    "#### Exercise: Pre-process your image data and scale it to a pixel range of -1 to 1\n",
    "\n",
    "You need to do a bit of pre-processing; you know that the output of a `tanh` activated generator will contain pixel values in a range from -1 to 1, and so, we need to rescale our training images to a range of -1 to 1. (Right now, they are in a range from 0-1.)"
   ]
  },
  {
   "cell_type": "code",
<<<<<<< HEAD
   "execution_count": 7,
=======
   "execution_count": null,
>>>>>>> 21e479df9fca8dd60922cbb6c9dbaf804dbdb629
   "metadata": {},
   "outputs": [],
   "source": [
    "# TODO: Complete the scale function\n",
    "def scale(x, feature_range=(-1, 1)):\n",
    "    ''' Scale takes in an image x and returns that image, scaled\n",
    "       with a feature_range of pixel values from -1 to 1. \n",
    "       This function assumes that the input x is already scaled from 0-1.'''\n",
    "    # assume x is scaled to (0, 1)\n",
    "    # scale to feature_range and return scaled x\n",
    "    \n",
<<<<<<< HEAD
    "    min, max = feature_range\n",
    "    x = x * (max - min) + min\n",
    "    return x"
=======
    "    return x\n"
>>>>>>> 21e479df9fca8dd60922cbb6c9dbaf804dbdb629
   ]
  },
  {
   "cell_type": "code",
<<<<<<< HEAD
   "execution_count": 8,
   "metadata": {},
   "outputs": [
    {
     "name": "stdout",
     "output_type": "stream",
     "text": [
      "Min:  tensor(-0.9294)\n",
      "Max:  tensor(0.9451)\n"
     ]
    }
   ],
=======
   "execution_count": null,
   "metadata": {},
   "outputs": [],
>>>>>>> 21e479df9fca8dd60922cbb6c9dbaf804dbdb629
   "source": [
    "\"\"\"\n",
    "DON'T MODIFY ANYTHING IN THIS CELL THAT IS BELOW THIS LINE\n",
    "\"\"\"\n",
    "# check scaled range\n",
    "# should be close to -1 to 1\n",
    "img = images[0]\n",
    "scaled_img = scale(img)\n",
    "\n",
    "print('Min: ', scaled_img.min())\n",
    "print('Max: ', scaled_img.max())"
   ]
  },
  {
   "cell_type": "markdown",
   "metadata": {},
   "source": [
    "---\n",
    "# Define the Model\n",
    "\n",
    "A GAN is comprised of two adversarial networks, a discriminator and a generator.\n",
    "\n",
    "## Discriminator\n",
    "\n",
    "Your first task will be to define the discriminator. This is a convolutional classifier like you've built before, only without any maxpooling layers. To deal with this complex data, it's suggested you use a deep network with **normalization**. You are also allowed to create any helper functions that may be useful.\n",
    "\n",
    "#### Exercise: Complete the Discriminator class\n",
    "* The inputs to the discriminator are 32x32x3 tensor images\n",
    "* The output should be a single value that will indicate whether a given image is real or fake\n"
   ]
  },
  {
   "cell_type": "code",
<<<<<<< HEAD
   "execution_count": 9,
=======
   "execution_count": null,
>>>>>>> 21e479df9fca8dd60922cbb6c9dbaf804dbdb629
   "metadata": {},
   "outputs": [],
   "source": [
    "import torch.nn as nn\n",
    "import torch.nn.functional as F"
   ]
  },
  {
   "cell_type": "code",
<<<<<<< HEAD
   "execution_count": 10,
   "metadata": {},
   "outputs": [
    {
     "name": "stdout",
     "output_type": "stream",
     "text": [
      "Tests Passed\n"
     ]
    }
   ],
=======
   "execution_count": null,
   "metadata": {},
   "outputs": [],
>>>>>>> 21e479df9fca8dd60922cbb6c9dbaf804dbdb629
   "source": [
    "class Discriminator(nn.Module):\n",
    "\n",
    "    def __init__(self, conv_dim):\n",
    "        \"\"\"\n",
    "        Initialize the Discriminator Module\n",
    "        :param conv_dim: The depth of the first convolutional layer\n",
    "        \"\"\"\n",
    "        super(Discriminator, self).__init__()\n",
    "\n",
    "        # complete init function\n",
<<<<<<< HEAD
    "        self.conv_dim = conv_dim\n",
    "        self.conv1 = nn.Conv2d(3, conv_dim, kernel_size=4, stride=2, padding=1, bias=False)\n",
    "        self.batch_norm1 = nn.BatchNorm2d(conv_dim)\n",
    "        self.conv2 = nn.Conv2d(conv_dim, conv_dim*2,kernel_size=4, stride=2, padding=1, bias=False)\n",
    "        self.batch_norm2 = nn.BatchNorm2d(conv_dim*2)\n",
    "        self.conv3 = nn.Conv2d(conv_dim*2, conv_dim*4, kernel_size=4, stride=2, padding=1, bias=False)\n",
    "        self.batch_norm3 = nn.BatchNorm2d(conv_dim*4)\n",
    "        self.conv4 = nn.Conv2d(conv_dim*4, conv_dim*8, kernel_size=4, stride=2, padding=1, bias=False)\n",
    "        self.batch_norm4 = nn.BatchNorm2d(conv_dim*8)\n",
    "        self.conv5 = nn.Conv2d(conv_dim*8, conv_dim*16, kernel_size=4, stride=2, padding=1, bias=False)\n",
    "        self.fc = nn.Linear(conv_dim*4*4, 1)\n",
=======
>>>>>>> 21e479df9fca8dd60922cbb6c9dbaf804dbdb629
    "        \n",
    "\n",
    "    def forward(self, x):\n",
    "        \"\"\"\n",
    "        Forward propagation of the neural network\n",
    "        :param x: The input to the neural network     \n",
    "        :return: Discriminator logits; the output of the neural network\n",
    "        \"\"\"\n",
    "        # define feedforward behavior\n",
<<<<<<< HEAD
    "        x = F.leaky_relu(self.batch_norm1(self.conv1(x)), 0.2)\n",
    "        x = F.leaky_relu(self.batch_norm2(self.conv2(x)), 0.2)\n",
    "        x = F.leaky_relu(self.batch_norm3(self.conv3(x)), 0.2)\n",
    "        x = F.leaky_relu(self.batch_norm4(self.conv4(x)), 0.2)\n",
    "        x = self.conv5(x)\n",
    "        # flatten\n",
    "        x = x.view(-1, self.conv_dim*4*4)\n",
    "        # final output layer\n",
    "        x = F.sigmoid(self.fc(x))\n",
=======
>>>>>>> 21e479df9fca8dd60922cbb6c9dbaf804dbdb629
    "        \n",
    "        return x\n",
    "\n",
    "\n",
    "\"\"\"\n",
    "DON'T MODIFY ANYTHING IN THIS CELL THAT IS BELOW THIS LINE\n",
    "\"\"\"\n",
    "tests.test_discriminator(Discriminator)"
   ]
  },
  {
   "cell_type": "markdown",
   "metadata": {},
   "source": [
    "## Generator\n",
    "\n",
    "The generator should upsample an input and generate a *new* image of the same size as our training data `32x32x3`. This should be mostly transpose convolutional layers with normalization applied to the outputs.\n",
    "\n",
    "#### Exercise: Complete the Generator class\n",
    "* The inputs to the generator are vectors of some length `z_size`\n",
    "* The output should be a image of shape `32x32x3`"
   ]
  },
  {
   "cell_type": "code",
<<<<<<< HEAD
   "execution_count": 11,
   "metadata": {},
   "outputs": [
    {
     "name": "stdout",
     "output_type": "stream",
     "text": [
      "Tests Passed\n"
     ]
    }
   ],
   "source": [
    "# helper deconv function\n",
    "def deconv(in_channels, out_channels, kernel_size, stride=2, padding=1, batch_norm=True):\n",
    "    \"\"\"Creates a transposed-convolutional layer, with optional batch normalization.\n",
    "    \"\"\"\n",
    "    # create a sequence of transpose + optional batch norm layers\n",
    "    layers = []\n",
    "    transpose_conv_layer = nn.ConvTranspose2d(in_channels, out_channels, \n",
    "                                              kernel_size, stride, padding, bias=False)\n",
    "    # append transpose convolutional layer\n",
    "    layers.append(transpose_conv_layer)\n",
    "    \n",
    "    if batch_norm:\n",
    "        # append batchnorm layer\n",
    "        layers.append(nn.BatchNorm2d(out_channels))\n",
    "        \n",
    "    return nn.Sequential(*layers)\n",
    "\n",
    "\n",
=======
   "execution_count": null,
   "metadata": {},
   "outputs": [],
   "source": [
>>>>>>> 21e479df9fca8dd60922cbb6c9dbaf804dbdb629
    "class Generator(nn.Module):\n",
    "    \n",
    "    def __init__(self, z_size, conv_dim):\n",
    "        \"\"\"\n",
    "        Initialize the Generator Module\n",
    "        :param z_size: The length of the input latent vector, z\n",
    "        :param conv_dim: The depth of the inputs to the *last* transpose convolutional layer\n",
    "        \"\"\"\n",
    "        super(Generator, self).__init__()\n",
    "\n",
    "        # complete init function\n",
<<<<<<< HEAD
    "        self.conv_dim = conv_dim\n",
    "        \n",
    "        # first, fully-connected layer\n",
    "        self.fc = nn.Linear(z_size, conv_dim*4*4*4)\n",
    "        \n",
    "        # transpose conv layers\n",
    "        self.t_conv1 = deconv(conv_dim*4, conv_dim*2, 4 )\n",
    "        self.t_conv2 = deconv(conv_dim*2, conv_dim, 4)\n",
    "        self.t_conv3 = deconv(conv_dim, 3, 4, batch_norm=False)\n",
    "        \n",
    "        # dropout layer\n",
    "        self.dropout = nn.Dropout(0.5)\n",
    "        \n",
=======
>>>>>>> 21e479df9fca8dd60922cbb6c9dbaf804dbdb629
    "        \n",
    "\n",
    "    def forward(self, x):\n",
    "        \"\"\"\n",
    "        Forward propagation of the neural network\n",
    "        :param x: The input to the neural network     \n",
    "        :return: A 32x32x3 Tensor image as output\n",
    "        \"\"\"\n",
    "        # define feedforward behavior\n",
<<<<<<< HEAD
    "        x = self.fc(x)\n",
    "        x = self.dropout(x)\n",
    "        \n",
    "        x = x.view(-1, self.conv_dim*4, 4, 4)\n",
    "        \n",
    "        x = F.relu(self.t_conv1(x))\n",
    "        # x = self.dropout(x)\n",
    "        x = F.relu(self.t_conv2(x))\n",
    "        # x = self.dropout(x)\n",
    "        x = F.tanh(self.t_conv3(x))\n",
=======
>>>>>>> 21e479df9fca8dd60922cbb6c9dbaf804dbdb629
    "        \n",
    "        return x\n",
    "\n",
    "\"\"\"\n",
    "DON'T MODIFY ANYTHING IN THIS CELL THAT IS BELOW THIS LINE\n",
    "\"\"\"\n",
    "tests.test_generator(Generator)"
   ]
  },
  {
   "cell_type": "markdown",
   "metadata": {},
   "source": [
    "## Initialize the weights of your networks\n",
    "\n",
    "To help your models converge, you should initialize the weights of the convolutional and linear layers in your model. From reading the [original DCGAN paper](https://arxiv.org/pdf/1511.06434.pdf), they say:\n",
    "> All weights were initialized from a zero-centered Normal distribution with standard deviation 0.02.\n",
    "\n",
    "So, your next task will be to define a weight initialization function that does just this!\n",
    "\n",
    "You can refer back to the lesson on weight initialization or even consult existing model code, such as that from [the `networks.py` file in CycleGAN Github repository](https://github.com/junyanz/pytorch-CycleGAN-and-pix2pix/blob/master/models/networks.py) to help you complete this function.\n",
    "\n",
    "#### Exercise: Complete the weight initialization function\n",
    "\n",
    "* This should initialize only **convolutional** and **linear** layers\n",
    "* Initialize the weights to a normal distribution, centered around 0, with a standard deviation of 0.02.\n",
    "* The bias terms, if they exist, may be left alone or set to 0."
   ]
  },
  {
   "cell_type": "code",
<<<<<<< HEAD
   "execution_count": 12,
=======
   "execution_count": null,
>>>>>>> 21e479df9fca8dd60922cbb6c9dbaf804dbdb629
   "metadata": {},
   "outputs": [],
   "source": [
    "def weights_init_normal(m):\n",
    "    \"\"\"\n",
    "    Applies initial weights to certain layers in a model .\n",
    "    The weights are taken from a normal distribution \n",
    "    with mean = 0, std dev = 0.02.\n",
    "    :param m: A module or layer in a network    \n",
    "    \"\"\"\n",
    "    # classname will be something like:\n",
    "    # `Conv`, `BatchNorm2d`, `Linear`, etc.\n",
    "    classname = m.__class__.__name__\n",
    "    \n",
    "    # TODO: Apply initial weights to convolutional and linear layers\n",
<<<<<<< HEAD
    "    if classname.find('Conv') != -1 or classname.find('Linear') != -1:\n",
    "        nn.init.normal_(m.weight.data, 0, 0.02)\n",
    "    if hasattr(m, 'bias') and m.bias is not None:\n",
    "        m.bias.data.fill_(0)"
=======
    "    \n",
    "    "
>>>>>>> 21e479df9fca8dd60922cbb6c9dbaf804dbdb629
   ]
  },
  {
   "cell_type": "markdown",
   "metadata": {
    "collapsed": true
   },
   "source": [
    "## Build complete network\n",
    "\n",
    "Define your models' hyperparameters and instantiate the discriminator and generator from the classes defined above. Make sure you've passed in the correct input arguments."
   ]
  },
  {
   "cell_type": "code",
<<<<<<< HEAD
   "execution_count": 13,
=======
   "execution_count": null,
>>>>>>> 21e479df9fca8dd60922cbb6c9dbaf804dbdb629
   "metadata": {},
   "outputs": [],
   "source": [
    "\"\"\"\n",
    "DON'T MODIFY ANYTHING IN THIS CELL THAT IS BELOW THIS LINE\n",
    "\"\"\"\n",
    "def build_network(d_conv_dim, g_conv_dim, z_size):\n",
    "    # define discriminator and generator\n",
    "    D = Discriminator(d_conv_dim)\n",
    "    G = Generator(z_size=z_size, conv_dim=g_conv_dim)\n",
    "\n",
    "    # initialize model weights\n",
    "    D.apply(weights_init_normal)\n",
    "    G.apply(weights_init_normal)\n",
    "\n",
    "    print(D)\n",
    "    print()\n",
    "    print(G)\n",
    "    \n",
    "    return D, G\n"
   ]
  },
  {
   "cell_type": "markdown",
   "metadata": {},
   "source": [
    "#### Exercise: Define model hyperparameters"
   ]
  },
  {
   "cell_type": "code",
<<<<<<< HEAD
   "execution_count": 14,
   "metadata": {},
   "outputs": [
    {
     "name": "stdout",
     "output_type": "stream",
     "text": [
      "Discriminator(\n",
      "  (conv1): Conv2d(3, 64, kernel_size=(4, 4), stride=(2, 2), padding=(1, 1), bias=False)\n",
      "  (batch_norm1): BatchNorm2d(64, eps=1e-05, momentum=0.1, affine=True, track_running_stats=True)\n",
      "  (conv2): Conv2d(64, 128, kernel_size=(4, 4), stride=(2, 2), padding=(1, 1), bias=False)\n",
      "  (batch_norm2): BatchNorm2d(128, eps=1e-05, momentum=0.1, affine=True, track_running_stats=True)\n",
      "  (conv3): Conv2d(128, 256, kernel_size=(4, 4), stride=(2, 2), padding=(1, 1), bias=False)\n",
      "  (batch_norm3): BatchNorm2d(256, eps=1e-05, momentum=0.1, affine=True, track_running_stats=True)\n",
      "  (conv4): Conv2d(256, 512, kernel_size=(4, 4), stride=(2, 2), padding=(1, 1), bias=False)\n",
      "  (batch_norm4): BatchNorm2d(512, eps=1e-05, momentum=0.1, affine=True, track_running_stats=True)\n",
      "  (conv5): Conv2d(512, 1024, kernel_size=(4, 4), stride=(2, 2), padding=(1, 1), bias=False)\n",
      "  (fc): Linear(in_features=1024, out_features=1, bias=True)\n",
      ")\n",
      "\n",
      "Generator(\n",
      "  (fc): Linear(in_features=100, out_features=4096, bias=True)\n",
      "  (t_conv1): Sequential(\n",
      "    (0): ConvTranspose2d(256, 128, kernel_size=(4, 4), stride=(2, 2), padding=(1, 1), bias=False)\n",
      "    (1): BatchNorm2d(128, eps=1e-05, momentum=0.1, affine=True, track_running_stats=True)\n",
      "  )\n",
      "  (t_conv2): Sequential(\n",
      "    (0): ConvTranspose2d(128, 64, kernel_size=(4, 4), stride=(2, 2), padding=(1, 1), bias=False)\n",
      "    (1): BatchNorm2d(64, eps=1e-05, momentum=0.1, affine=True, track_running_stats=True)\n",
      "  )\n",
      "  (t_conv3): Sequential(\n",
      "    (0): ConvTranspose2d(64, 3, kernel_size=(4, 4), stride=(2, 2), padding=(1, 1), bias=False)\n",
      "  )\n",
      "  (dropout): Dropout(p=0.5)\n",
      ")\n"
     ]
    }
   ],
   "source": [
    "# Define model hyperparams\n",
    "d_conv_dim = 64\n",
    "g_conv_dim = 64\n",
    "z_size = 100\n",
=======
   "execution_count": null,
   "metadata": {},
   "outputs": [],
   "source": [
    "# Define model hyperparams\n",
    "d_conv_dim = \n",
    "g_conv_dim = \n",
    "z_size = \n",
>>>>>>> 21e479df9fca8dd60922cbb6c9dbaf804dbdb629
    "\n",
    "\"\"\"\n",
    "DON'T MODIFY ANYTHING IN THIS CELL THAT IS BELOW THIS LINE\n",
    "\"\"\"\n",
    "D, G = build_network(d_conv_dim, g_conv_dim, z_size)"
   ]
  },
  {
   "cell_type": "markdown",
   "metadata": {},
   "source": [
    "### Training on GPU\n",
    "\n",
    "Check if you can train on GPU. Here, we'll set this as a boolean variable `train_on_gpu`. Later, you'll be responsible for making sure that \n",
    ">* Models,\n",
    "* Model inputs, and\n",
    "* Loss function arguments\n",
    "\n",
    "Are moved to GPU, where appropriate."
   ]
  },
  {
   "cell_type": "code",
<<<<<<< HEAD
   "execution_count": 15,
   "metadata": {},
   "outputs": [
    {
     "name": "stdout",
     "output_type": "stream",
     "text": [
      "No GPU found. Please use a GPU to train your neural network.\n"
     ]
    }
   ],
=======
   "execution_count": null,
   "metadata": {},
   "outputs": [],
>>>>>>> 21e479df9fca8dd60922cbb6c9dbaf804dbdb629
   "source": [
    "\"\"\"\n",
    "DON'T MODIFY ANYTHING IN THIS CELL\n",
    "\"\"\"\n",
    "import torch\n",
    "\n",
    "# Check for a GPU\n",
    "train_on_gpu = torch.cuda.is_available()\n",
    "if not train_on_gpu:\n",
    "    print('No GPU found. Please use a GPU to train your neural network.')\n",
    "else:\n",
    "    print('Training on GPU!')"
   ]
  },
  {
   "cell_type": "markdown",
   "metadata": {},
   "source": [
    "---\n",
    "## Discriminator and Generator Losses\n",
    "\n",
    "Now we need to calculate the losses for both types of adversarial networks.\n",
    "\n",
    "### Discriminator Losses\n",
    "\n",
    "> * For the discriminator, the total loss is the sum of the losses for real and fake images, `d_loss = d_real_loss + d_fake_loss`. \n",
    "* Remember that we want the discriminator to output 1 for real images and 0 for fake images, so we need to set up the losses to reflect that.\n",
    "\n",
    "\n",
    "### Generator Loss\n",
    "\n",
    "The generator loss will look similar only with flipped labels. The generator's goal is to get the discriminator to *think* its generated images are *real*.\n",
    "\n",
    "#### Exercise: Complete real and fake loss functions\n",
    "\n",
    "**You may choose to use either cross entropy or a least squares error loss to complete the following `real_loss` and `fake_loss` functions.**"
   ]
  },
  {
   "cell_type": "code",
<<<<<<< HEAD
   "execution_count": 16,
=======
   "execution_count": null,
>>>>>>> 21e479df9fca8dd60922cbb6c9dbaf804dbdb629
   "metadata": {},
   "outputs": [],
   "source": [
    "def real_loss(D_out):\n",
    "    '''Calculates how close discriminator outputs are to being real.\n",
    "       param, D_out: discriminator logits\n",
    "       return: real loss'''\n",
<<<<<<< HEAD
    "    batch_size = D_out.size(0)\n",
    "    if smooth:\n",
    "        labels = torch.ones(batch_size)*0.9\n",
    "    else:\n",
    "        labels = torch.ones(batch_size)\n",
    "    if train_on_gpu:\n",
    "        labels = labels.cuda()\n",
    "    criterion = nn.BCELoss()\n",
    "    # calculate loss\n",
    "    loss = criterion(D_out.squeeze(), labels)\n",
=======
    "    loss = \n",
>>>>>>> 21e479df9fca8dd60922cbb6c9dbaf804dbdb629
    "    return loss\n",
    "\n",
    "def fake_loss(D_out):\n",
    "    '''Calculates how close discriminator outputs are to being fake.\n",
    "       param, D_out: discriminator logits\n",
    "       return: fake loss'''\n",
<<<<<<< HEAD
    "    batch_size = D_out.size(0)\n",
    "    labels = torch.zeros(batch_size)\n",
    "    if train_on_gpu:\n",
    "        labels = labels.cuda()\n",
    "    criterion = nn.BCELoss()\n",
    "    # calculate loss\n",
    "    loss = criterion(D_out.squeeze(), labels) \n",
=======
    "    loss = \n",
>>>>>>> 21e479df9fca8dd60922cbb6c9dbaf804dbdb629
    "    return loss"
   ]
  },
  {
   "cell_type": "markdown",
   "metadata": {},
   "source": [
    "## Optimizers\n",
    "\n",
    "#### Exercise: Define optimizers for your Discriminator (D) and Generator (G)\n",
    "\n",
    "Define optimizers for your models with appropriate hyperparameters."
   ]
  },
  {
   "cell_type": "code",
<<<<<<< HEAD
   "execution_count": 17,
=======
   "execution_count": null,
>>>>>>> 21e479df9fca8dd60922cbb6c9dbaf804dbdb629
   "metadata": {},
   "outputs": [],
   "source": [
    "import torch.optim as optim\n",
    "\n",
    "# Create optimizers for the discriminator D and generator G\n",
<<<<<<< HEAD
    "lr=0.0005\n",
    "g_optimizer = optim.Adam(G.parameters(), lr=lr, betas=(0.3, 0.999))\n",
    "d_optimizer = optim.Adam(D.parameters(), lr=lr, betas=(0.3, 0.999))"
=======
    "d_optimizer = \n",
    "g_optimizer = "
>>>>>>> 21e479df9fca8dd60922cbb6c9dbaf804dbdb629
   ]
  },
  {
   "cell_type": "markdown",
   "metadata": {},
   "source": [
    "---\n",
    "## Training\n",
    "\n",
    "Training will involve alternating between training the discriminator and the generator. You'll use your functions `real_loss` and `fake_loss` to help you calculate the discriminator losses.\n",
    "\n",
    "* You should train the discriminator by alternating on real and fake images\n",
    "* Then the generator, which tries to trick the discriminator and should have an opposing loss function\n",
    "\n",
    "\n",
    "#### Saving Samples\n",
    "\n",
    "You've been given some code to print out some loss statistics and save some generated \"fake\" samples."
   ]
  },
  {
   "cell_type": "markdown",
   "metadata": {},
   "source": [
    "#### Exercise: Complete the training function\n",
    "\n",
    "Keep in mind that, if you've moved your models to GPU, you'll also have to move any model inputs to GPU."
   ]
  },
  {
   "cell_type": "code",
<<<<<<< HEAD
   "execution_count": 18,
=======
   "execution_count": null,
>>>>>>> 21e479df9fca8dd60922cbb6c9dbaf804dbdb629
   "metadata": {},
   "outputs": [],
   "source": [
    "def train(D, G, n_epochs, print_every=50):\n",
    "    '''Trains adversarial networks for some number of epochs\n",
    "       param, D: the discriminator network\n",
    "       param, G: the generator network\n",
    "       param, n_epochs: number of epochs to train for\n",
    "       param, print_every: when to print and record the models' losses\n",
    "       return: D and G losses'''\n",
    "    \n",
    "    # move models to GPU\n",
    "    if train_on_gpu:\n",
    "        D.cuda()\n",
    "        G.cuda()\n",
    "\n",
    "    # keep track of loss and generated, \"fake\" samples\n",
    "    samples = []\n",
    "    losses = []\n",
    "\n",
    "    # Get some fixed data for sampling. These are images that are held\n",
    "    # constant throughout training, and allow us to inspect the model's performance\n",
    "    sample_size=16\n",
    "    fixed_z = np.random.uniform(-1, 1, size=(sample_size, z_size))\n",
    "    fixed_z = torch.from_numpy(fixed_z).float()\n",
    "    # move z to GPU if available\n",
    "    if train_on_gpu:\n",
    "        fixed_z = fixed_z.cuda()\n",
    "\n",
    "    # epoch training loop\n",
    "    for epoch in range(n_epochs):\n",
    "\n",
    "        # batch training loop\n",
    "        for batch_i, (real_images, _) in enumerate(celeba_train_loader):\n",
    "\n",
    "            batch_size = real_images.size(0)\n",
    "            real_images = scale(real_images)\n",
    "\n",
    "            # ===============================================\n",
    "            #         YOUR CODE HERE: TRAIN THE NETWORKS\n",
    "            # ===============================================\n",
<<<<<<< HEAD
    "            d_optimizer.zero_grad()\n",
    "            \n",
    "            # 1. Train the discriminator on real and fake images\n",
    "            if train_on_gpu:\n",
    "                real_images = real_images.cuda()\n",
    "            D_real = D(real_images)\n",
    "            d_real_loss = real_loss(D_real)\n",
    "            \n",
    "            # generate fake images\n",
    "            z = np.random.uniform(-1, 1, size=(batch_size, z_size))\n",
    "            z = torch.from_numpy(z).float()\n",
    "            if train_on_gpu:\n",
    "                z = z.cuda()\n",
    "            fake_images = G(z)\n",
    "            D_fake = D(fake_images)\n",
    "            d_fake_loss = fake_loss(D_fake)\n",
    "            \n",
    "            # add real loss and fake loss\n",
    "            d_loss = d_real_loss + d_fake_loss\n",
    "            d_loss.backward()\n",
    "            d_optimizer.step()\n",
    "\n",
    "            # 2. Train the generator with an adversarial loss\n",
    "            g_optimizer.zero_grad()\n",
    "            # generate fake images\n",
    "            z = np.random.uniform(-1, 1, size=(batch_size, z_size))\n",
    "            z = torch.from_numpy(z).float()\n",
    "            if train_on_gpu:\n",
    "                z = z.cuda()\n",
    "            fake_images = G(z)\n",
    "            # compute the discriminator losses on fake images \n",
    "            D_fake = D(fake_images)\n",
    "            # use real loss to flip labels\n",
    "            g_loss = real_loss(D_fake)\n",
    "            g_loss.backward()\n",
    "            g_optimizer.step()\n",
=======
    "            \n",
    "            # 1. Train the discriminator on real and fake images\n",
    "            d_loss = \n",
    "\n",
    "            # 2. Train the generator with an adversarial loss\n",
    "            g_loss = \n",
    "            \n",
    "            \n",
>>>>>>> 21e479df9fca8dd60922cbb6c9dbaf804dbdb629
    "            # ===============================================\n",
    "            #              END OF YOUR CODE\n",
    "            # ===============================================\n",
    "\n",
    "            # Print some loss stats\n",
    "            if batch_i % print_every == 0:\n",
    "                # append discriminator loss and generator loss\n",
    "                losses.append((d_loss.item(), g_loss.item()))\n",
    "                # print discriminator and generator loss\n",
    "                print('Epoch [{:5d}/{:5d}] | d_loss: {:6.4f} | g_loss: {:6.4f}'.format(\n",
    "                        epoch+1, n_epochs, d_loss.item(), g_loss.item()))\n",
    "\n",
    "\n",
    "        ## AFTER EACH EPOCH##    \n",
    "        # this code assumes your generator is named G, feel free to change the name\n",
    "        # generate and save sample, fake images\n",
    "        G.eval() # for generating samples\n",
    "        samples_z = G(fixed_z)\n",
    "        samples.append(samples_z)\n",
    "        G.train() # back to training mode\n",
    "\n",
    "    # Save training generator samples\n",
    "    with open('train_samples.pkl', 'wb') as f:\n",
    "        pkl.dump(samples, f)\n",
    "    \n",
    "    # finally return losses\n",
    "    return losses"
   ]
  },
  {
   "cell_type": "markdown",
   "metadata": {},
   "source": [
    "Set your number of training epochs and train your GAN!"
   ]
  },
  {
   "cell_type": "code",
   "execution_count": null,
   "metadata": {},
   "outputs": [],
   "source": [
    "# set number of epochs \n",
<<<<<<< HEAD
    "n_epochs = 10\n",
=======
    "n_epochs = \n",
>>>>>>> 21e479df9fca8dd60922cbb6c9dbaf804dbdb629
    "\n",
    "\n",
    "\"\"\"\n",
    "DON'T MODIFY ANYTHING IN THIS CELL\n",
    "\"\"\"\n",
    "# call training function\n",
    "losses = train(D, G, n_epochs=n_epochs)"
   ]
  },
  {
   "cell_type": "markdown",
   "metadata": {
    "collapsed": true
   },
   "source": [
    "## Training loss\n",
    "\n",
    "Plot the training losses for the generator and discriminator, recorded after each epoch."
   ]
  },
  {
   "cell_type": "code",
   "execution_count": null,
   "metadata": {},
   "outputs": [],
   "source": [
    "fig, ax = plt.subplots()\n",
    "losses = np.array(losses)\n",
    "plt.plot(losses.T[0], label='Discriminator', alpha=0.5)\n",
    "plt.plot(losses.T[1], label='Generator', alpha=0.5)\n",
    "plt.title(\"Training Losses\")\n",
    "plt.legend()"
   ]
  },
  {
   "cell_type": "markdown",
   "metadata": {
    "collapsed": true
   },
   "source": [
    "## Generator samples from training\n",
    "\n",
    "View samples of images from the generator, and answer a question about the strengths and weaknesses of your trained models."
   ]
  },
  {
   "cell_type": "code",
   "execution_count": null,
   "metadata": {},
   "outputs": [],
   "source": [
    "# helper function for viewing a list of passed in sample images\n",
    "def view_samples(epoch, samples):\n",
    "    fig, axes = plt.subplots(figsize=(16,4), nrows=2, ncols=8, sharey=True, sharex=True)\n",
    "    for ax, img in zip(axes.flatten(), samples[epoch]):\n",
    "        img = img.detach().cpu().numpy()\n",
    "        img = np.transpose(img, (1, 2, 0))\n",
    "        img = ((img + 1)*255 / (2)).astype(np.uint8)\n",
    "        ax.xaxis.set_visible(False)\n",
    "        ax.yaxis.set_visible(False)\n",
    "        im = ax.imshow(img.reshape((32,32,3)))"
   ]
  },
  {
   "cell_type": "code",
   "execution_count": null,
   "metadata": {},
   "outputs": [],
   "source": [
    "# Load samples from generator, taken while training\n",
    "with open('train_samples.pkl', 'rb') as f:\n",
    "    samples = pkl.load(f)"
   ]
  },
  {
   "cell_type": "code",
   "execution_count": null,
   "metadata": {},
   "outputs": [],
   "source": [
    "_ = view_samples(-1, samples)"
   ]
  },
  {
   "cell_type": "markdown",
   "metadata": {},
   "source": [
    "### Question: What do you notice about your generated samples and how might you improve this model?\n",
    "When you answer this question, consider the following factors:\n",
    "* The dataset is biased; it is made of \"celebrity\" faces that are mostly white\n",
    "* Model size; larger models have the opportunity to learn more features in a data feature space\n",
    "* Optimization strategy; optimizers and number of epochs affect your final result\n"
   ]
  },
  {
   "cell_type": "markdown",
   "metadata": {},
   "source": [
    "**Answer:** (Write your answer in this cell)"
   ]
  },
  {
   "cell_type": "markdown",
   "metadata": {},
   "source": [
    "### Submitting This Project\n",
    "When submitting this project, make sure to run all the cells before saving the notebook. Save the notebook file as \"dlnd_face_generation.ipynb\" and save it as a HTML file under \"File\" -> \"Download as\". Include the \"problem_unittests.py\" files in your submission."
   ]
  }
 ],
 "metadata": {
  "kernelspec": {
   "display_name": "Python 3",
   "language": "python",
   "name": "python3"
  },
  "language_info": {
   "codemirror_mode": {
    "name": "ipython",
    "version": 3
   },
   "file_extension": ".py",
   "mimetype": "text/x-python",
   "name": "python",
   "nbconvert_exporter": "python",
   "pygments_lexer": "ipython3",
   "version": "3.6.3"
  }
 },
 "nbformat": 4,
 "nbformat_minor": 1
}
